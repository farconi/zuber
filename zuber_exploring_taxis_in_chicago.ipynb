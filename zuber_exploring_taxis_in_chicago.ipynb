{
 "cells": [
  {
   "cell_type": "markdown",
   "metadata": {},
   "source": [
    "# Zuber: Exploring the World of Taxi Cabs in Chicago"
   ]
  },
  {
   "cell_type": "markdown",
   "metadata": {},
   "source": [
    "## Introduction:\n",
    "Welcome to Zuber's data analytics project, a new ride-sharing company launching in Chicago. In this project, we will investigate available data to understand passenger preferences and analyze the impact of external factors on taxi rides. Our goal is to uncover patterns and insights that can guide decision-making and service improvement at Zuber."
   ]
  },
  {
   "cell_type": "markdown",
   "metadata": {},
   "source": [
    "### Project description:\n",
    "Zuber hired us as a data analyst to mine a database with detailed information about cab rides in Chicago. Our job is to identify patterns and trends in rides, understand rider preferences and investigate the impact of external factors, such as weather, on trip frequency. Based on this information, Zuber expects to make strategic decisions to provide an efficient and high quality ridesharing service."
   ]
  },
  {
   "cell_type": "markdown",
   "metadata": {},
   "source": [
    "### Data Description:\n",
    "The database provided contains several tables that contain valuable information about cab rides in Chicago:\n",
    "\n",
    "The \"neighborhoods\" table presents data about the city's neighborhoods, including the neighborhood name and a unique identification code for each neighborhood.\n",
    "\n",
    "The \"cabs\" table provides information about cabs, including vehicle codes and the company that owns each cab.\n",
    "\n",
    "The \"trips\" table contains specific data about taxi trips, such as the trip code, the vehicle that made the trip, the start and end date and time of the trip (rounded to the hour), the duration of the trip in seconds , the distance traveled in miles, and the pick-up and drop-off neighborhood codes.\n",
    "\n",
    "In addition, we have the \"weather_records\" table that contains information about weather conditions, including the date and time of the record, the temperature recorded, and a brief description of the conditions, such as \"light rain\" or \"sparse clouds\"."
   ]
  },
  {
   "cell_type": "markdown",
   "metadata": {},
   "source": [
    "### Languages and Methods:\n",
    "To explore and analyze this data, we will use a combination of SQL (Structured Query Language) and Python. SQL will be used to query and extract data from the relational database, while Python will be the main language for analyzing data and creating visualizations. We will make use of popular libraries like pandas and matplotlib for data manipulation and visualization, making the analysis understandable and accessible."
   ]
  },
  {
   "cell_type": "markdown",
   "metadata": {},
   "source": [
    "Let's embark on this exciting journey of data analysis and find out what the numbers have to tell us about the world of taxis in Chicago!"
   ]
  },
  {
   "cell_type": "markdown",
   "metadata": {},
   "source": [
    "## Importing libraries"
   ]
  },
  {
   "cell_type": "markdown",
   "metadata": {},
   "source": [
    "Let's import the necessary libraries for our analyses:"
   ]
  },
  {
   "cell_type": "code",
   "execution_count": 22,
   "metadata": {},
   "outputs": [],
   "source": [
    "import pandas as pd\n",
    "\n",
    "import requests\n",
    "\n",
    "from bs4 import BeautifulSoup\n",
    "\n",
    "import matplotlib.pyplot as plt\n",
    "\n",
    "import scipy.stats as stats"
   ]
  },
  {
   "cell_type": "markdown",
   "metadata": {},
   "source": [
    "## Database connection"
   ]
  },
  {
   "cell_type": "markdown",
   "metadata": {},
   "source": [
    "Let's import the tables needed for our data exploration, starting with the weather records:"
   ]
  },
  {
   "cell_type": "code",
   "execution_count": 23,
   "metadata": {},
   "outputs": [
    {
     "data": {
      "text/html": [
       "<div>\n",
       "<style scoped>\n",
       "    .dataframe tbody tr th:only-of-type {\n",
       "        vertical-align: middle;\n",
       "    }\n",
       "\n",
       "    .dataframe tbody tr th {\n",
       "        vertical-align: top;\n",
       "    }\n",
       "\n",
       "    .dataframe thead th {\n",
       "        text-align: right;\n",
       "    }\n",
       "</style>\n",
       "<table border=\"1\" class=\"dataframe\">\n",
       "  <thead>\n",
       "    <tr style=\"text-align: right;\">\n",
       "      <th></th>\n",
       "      <th>Date and time</th>\n",
       "      <th>Temperature</th>\n",
       "      <th>Description</th>\n",
       "    </tr>\n",
       "  </thead>\n",
       "  <tbody>\n",
       "    <tr>\n",
       "      <th>0</th>\n",
       "      <td>2017-11-01 00:00:00</td>\n",
       "      <td>276.150</td>\n",
       "      <td>broken clouds</td>\n",
       "    </tr>\n",
       "    <tr>\n",
       "      <th>1</th>\n",
       "      <td>2017-11-01 01:00:00</td>\n",
       "      <td>275.700</td>\n",
       "      <td>scattered clouds</td>\n",
       "    </tr>\n",
       "    <tr>\n",
       "      <th>2</th>\n",
       "      <td>2017-11-01 02:00:00</td>\n",
       "      <td>275.610</td>\n",
       "      <td>overcast clouds</td>\n",
       "    </tr>\n",
       "    <tr>\n",
       "      <th>3</th>\n",
       "      <td>2017-11-01 03:00:00</td>\n",
       "      <td>275.350</td>\n",
       "      <td>broken clouds</td>\n",
       "    </tr>\n",
       "    <tr>\n",
       "      <th>4</th>\n",
       "      <td>2017-11-01 04:00:00</td>\n",
       "      <td>275.240</td>\n",
       "      <td>broken clouds</td>\n",
       "    </tr>\n",
       "  </tbody>\n",
       "</table>\n",
       "</div>"
      ],
      "text/plain": [
       "         Date and time Temperature       Description\n",
       "0  2017-11-01 00:00:00     276.150     broken clouds\n",
       "1  2017-11-01 01:00:00     275.700  scattered clouds\n",
       "2  2017-11-01 02:00:00     275.610   overcast clouds\n",
       "3  2017-11-01 03:00:00     275.350     broken clouds\n",
       "4  2017-11-01 04:00:00     275.240     broken clouds"
      ]
     },
     "execution_count": 23,
     "metadata": {},
     "output_type": "execute_result"
    }
   ],
   "source": [
    "# Importing the 'weather_records' table from your website\n",
    "\n",
    "URL = 'https://practicum-content.s3.us-west-1.amazonaws.com/data-analyst-eng/moved_chicago_weather_2017.html'\n",
    "\n",
    "req = requests.get(URL)\n",
    "soup = BeautifulSoup(req.text, 'html.parser')\n",
    "\n",
    "table = soup.find('table', attrs={'id': 'weather_records'})\n",
    "data = []\n",
    "\n",
    "for row in table.find_all('tr'):\n",
    "    cols = row.find_all('td')\n",
    "    if len(cols) == 3:\n",
    "        date = cols[0].text.strip()\n",
    "        temperature = cols[1].text.strip()\n",
    "        description = cols[2].text.strip()\n",
    "        data.append([date, temperature, description])\n",
    "\n",
    "weather_records = pd.DataFrame(data, columns=['Date and time', 'Temperature', 'Description'])\n",
    "\n",
    "weather_records.head()\n"
   ]
  },
  {
   "cell_type": "markdown",
   "metadata": {},
   "source": [
    "Let's import and visualize the first rows of the table that shows the number of trips for each company, sorted in descending order:"
   ]
  },
  {
   "cell_type": "code",
   "execution_count": 24,
   "metadata": {},
   "outputs": [
    {
     "data": {
      "text/html": [
       "<div>\n",
       "<style scoped>\n",
       "    .dataframe tbody tr th:only-of-type {\n",
       "        vertical-align: middle;\n",
       "    }\n",
       "\n",
       "    .dataframe tbody tr th {\n",
       "        vertical-align: top;\n",
       "    }\n",
       "\n",
       "    .dataframe thead th {\n",
       "        text-align: right;\n",
       "    }\n",
       "</style>\n",
       "<table border=\"1\" class=\"dataframe\">\n",
       "  <thead>\n",
       "    <tr style=\"text-align: right;\">\n",
       "      <th></th>\n",
       "      <th>company_name</th>\n",
       "      <th>trips_amount</th>\n",
       "    </tr>\n",
       "  </thead>\n",
       "  <tbody>\n",
       "    <tr>\n",
       "      <th>0</th>\n",
       "      <td>Flash Cab</td>\n",
       "      <td>19558</td>\n",
       "    </tr>\n",
       "    <tr>\n",
       "      <th>1</th>\n",
       "      <td>Taxi Affiliation Services</td>\n",
       "      <td>11422</td>\n",
       "    </tr>\n",
       "    <tr>\n",
       "      <th>2</th>\n",
       "      <td>Medallion Leasing</td>\n",
       "      <td>10367</td>\n",
       "    </tr>\n",
       "    <tr>\n",
       "      <th>3</th>\n",
       "      <td>Yellow Cab</td>\n",
       "      <td>9888</td>\n",
       "    </tr>\n",
       "    <tr>\n",
       "      <th>4</th>\n",
       "      <td>Taxi Affiliation Service Yellow</td>\n",
       "      <td>9299</td>\n",
       "    </tr>\n",
       "  </tbody>\n",
       "</table>\n",
       "</div>"
      ],
      "text/plain": [
       "                      company_name  trips_amount\n",
       "0                        Flash Cab         19558\n",
       "1        Taxi Affiliation Services         11422\n",
       "2                Medallion Leasing         10367\n",
       "3                       Yellow Cab          9888\n",
       "4  Taxi Affiliation Service Yellow          9299"
      ]
     },
     "execution_count": 24,
     "metadata": {},
     "output_type": "execute_result"
    }
   ],
   "source": [
    "# Importing the file 'project_sql_result_01.csv'\n",
    "trips_amount = pd.read_csv('/datasets/project_sql_result_01.csv')\n",
    "\n",
    "trips_amount.head()\n"
   ]
  },
  {
   "cell_type": "markdown",
   "metadata": {},
   "source": [
    "We will now import the table with data for the Chicago neighborhoods where the rides ended and the average number of trips that ended in each neighborhood in November 2017:"
   ]
  },
  {
   "cell_type": "code",
   "execution_count": 25,
   "metadata": {},
   "outputs": [
    {
     "data": {
      "text/html": [
       "<div>\n",
       "<style scoped>\n",
       "    .dataframe tbody tr th:only-of-type {\n",
       "        vertical-align: middle;\n",
       "    }\n",
       "\n",
       "    .dataframe tbody tr th {\n",
       "        vertical-align: top;\n",
       "    }\n",
       "\n",
       "    .dataframe thead th {\n",
       "        text-align: right;\n",
       "    }\n",
       "</style>\n",
       "<table border=\"1\" class=\"dataframe\">\n",
       "  <thead>\n",
       "    <tr style=\"text-align: right;\">\n",
       "      <th></th>\n",
       "      <th>dropoff_location_name</th>\n",
       "      <th>average_trips</th>\n",
       "    </tr>\n",
       "  </thead>\n",
       "  <tbody>\n",
       "    <tr>\n",
       "      <th>0</th>\n",
       "      <td>Loop</td>\n",
       "      <td>10727.466667</td>\n",
       "    </tr>\n",
       "    <tr>\n",
       "      <th>1</th>\n",
       "      <td>River North</td>\n",
       "      <td>9523.666667</td>\n",
       "    </tr>\n",
       "    <tr>\n",
       "      <th>2</th>\n",
       "      <td>Streeterville</td>\n",
       "      <td>6664.666667</td>\n",
       "    </tr>\n",
       "    <tr>\n",
       "      <th>3</th>\n",
       "      <td>West Loop</td>\n",
       "      <td>5163.666667</td>\n",
       "    </tr>\n",
       "    <tr>\n",
       "      <th>4</th>\n",
       "      <td>O'Hare</td>\n",
       "      <td>2546.900000</td>\n",
       "    </tr>\n",
       "  </tbody>\n",
       "</table>\n",
       "</div>"
      ],
      "text/plain": [
       "  dropoff_location_name  average_trips\n",
       "0                  Loop   10727.466667\n",
       "1           River North    9523.666667\n",
       "2         Streeterville    6664.666667\n",
       "3             West Loop    5163.666667\n",
       "4                O'Hare    2546.900000"
      ]
     },
     "execution_count": 25,
     "metadata": {},
     "output_type": "execute_result"
    }
   ],
   "source": [
    "# Importing the file 'project_sql_result_04.csv'\n",
    "average_trips = pd.read_csv('/datasets/project_sql_result_04.csv')\n",
    "\n",
    "average_trips.head()\n"
   ]
  },
  {
   "cell_type": "markdown",
   "metadata": {},
   "source": [
    "Then we will import the `duration_seconds` Dataframe that indicates the chronological and meteorological times, as well as the duration of the races:"
   ]
  },
  {
   "cell_type": "code",
   "execution_count": 26,
   "metadata": {},
   "outputs": [
    {
     "data": {
      "text/html": [
       "<div>\n",
       "<style scoped>\n",
       "    .dataframe tbody tr th:only-of-type {\n",
       "        vertical-align: middle;\n",
       "    }\n",
       "\n",
       "    .dataframe tbody tr th {\n",
       "        vertical-align: top;\n",
       "    }\n",
       "\n",
       "    .dataframe thead th {\n",
       "        text-align: right;\n",
       "    }\n",
       "</style>\n",
       "<table border=\"1\" class=\"dataframe\">\n",
       "  <thead>\n",
       "    <tr style=\"text-align: right;\">\n",
       "      <th></th>\n",
       "      <th>start_ts</th>\n",
       "      <th>weather_conditions</th>\n",
       "      <th>duration_seconds</th>\n",
       "    </tr>\n",
       "  </thead>\n",
       "  <tbody>\n",
       "    <tr>\n",
       "      <th>0</th>\n",
       "      <td>2017-11-25 16:00:00</td>\n",
       "      <td>Good</td>\n",
       "      <td>2410.0</td>\n",
       "    </tr>\n",
       "    <tr>\n",
       "      <th>1</th>\n",
       "      <td>2017-11-25 14:00:00</td>\n",
       "      <td>Good</td>\n",
       "      <td>1920.0</td>\n",
       "    </tr>\n",
       "    <tr>\n",
       "      <th>2</th>\n",
       "      <td>2017-11-25 12:00:00</td>\n",
       "      <td>Good</td>\n",
       "      <td>1543.0</td>\n",
       "    </tr>\n",
       "    <tr>\n",
       "      <th>3</th>\n",
       "      <td>2017-11-04 10:00:00</td>\n",
       "      <td>Good</td>\n",
       "      <td>2512.0</td>\n",
       "    </tr>\n",
       "    <tr>\n",
       "      <th>4</th>\n",
       "      <td>2017-11-11 07:00:00</td>\n",
       "      <td>Good</td>\n",
       "      <td>1440.0</td>\n",
       "    </tr>\n",
       "  </tbody>\n",
       "</table>\n",
       "</div>"
      ],
      "text/plain": [
       "              start_ts weather_conditions  duration_seconds\n",
       "0  2017-11-25 16:00:00               Good            2410.0\n",
       "1  2017-11-25 14:00:00               Good            1920.0\n",
       "2  2017-11-25 12:00:00               Good            1543.0\n",
       "3  2017-11-04 10:00:00               Good            2512.0\n",
       "4  2017-11-11 07:00:00               Good            1440.0"
      ]
     },
     "execution_count": 26,
     "metadata": {},
     "output_type": "execute_result"
    }
   ],
   "source": [
    "# Importing the file 'project_sql_result_07.csv'\n",
    "duration_seconds = pd.read_csv('/datasets/project_sql_result_07.csv')\n",
    "\n",
    "duration_seconds.head()\n"
   ]
  },
  {
   "cell_type": "markdown",
   "metadata": {},
   "source": [
    "## Exploratory Data Analysis (Python)"
   ]
  },
  {
   "cell_type": "markdown",
   "metadata": {},
   "source": [
    "### Checking data types"
   ]
  },
  {
   "cell_type": "code",
   "execution_count": 27,
   "metadata": {},
   "outputs": [
    {
     "name": "stdout",
     "output_type": "stream",
     "text": [
      "Columns and data types of the `weather_records` Dataframe\n",
      "Date and time    object\n",
      "Temperature      object\n",
      "Description      object\n",
      "dtype: object\n",
      "\n",
      "Columns and data types of the `trips_amount` Dataframe\n",
      "company_name    object\n",
      "trips_amount     int64\n",
      "dtype: object\n",
      "\n",
      "Columns and data types of the `average_trips` Dataframe\n",
      "dropoff_location_name     object\n",
      "average_trips            float64\n",
      "dtype: object\n",
      "\n",
      "Columns and data types of the `duration_seconds` Dataframe\n",
      "start_ts               object\n",
      "weather_conditions     object\n",
      "duration_seconds      float64\n",
      "dtype: object\n"
     ]
    }
   ],
   "source": [
    "print('Columns and data types of the `weather_records` Dataframe')\n",
    "print(weather_records.dtypes)\n",
    "print()\n",
    "\n",
    "print('Columns and data types of the `trips_amount` Dataframe')\n",
    "print(trips_amount.dtypes)\n",
    "print()\n",
    "\n",
    "print('Columns and data types of the `average_trips` Dataframe')\n",
    "print(average_trips.dtypes)\n",
    "print()\n",
    "\n",
    "print('Columns and data types of the `duration_seconds` Dataframe')\n",
    "print(duration_seconds.dtypes)"
   ]
  },
  {
   "cell_type": "markdown",
   "metadata": {},
   "source": [
    "By analyzing the column names and data types of the DataFrames, we can make the following observations:\n",
    "\n",
    "**weather_records**:\n",
    "\n",
    "Column \"Date and time\" is stored as type \"object\", which is usually used for text data. It would be more appropriate to convert this column to type \"datetime\" to facilitate manipulation and parsing of dates and times.\n",
    "\n",
    "The \"Temperature\" column is also stored as an \"object\" type, which can make numerical calculations difficult. It would be advisable to convert this column to type \"float\" or \"int\" if numerical operations with temperature are to be performed.\n",
    "\n",
    "Both columns have their titles in capital letters and one of them even has spaces.\n",
    "\n",
    "\n",
    "\n",
    "**trips_amount**:\n",
    "\n",
    "Columns \"company_name\" and \"trips_amount\" are correctly stored as type \"object\" and \"int64\", respectively. There don't seem to be any issues with the data types in this DataFrame.\n",
    "\n",
    "\n",
    "\n",
    "**average_trips:**\n",
    "\n",
    "Column \"dropoff_location_name\" is stored as type \"object\", which is suitable for text data.\n",
    "\n",
    "Column \"average_trips\" is stored as type \"float64\", which is appropriate for representing decimal values.\n",
    "\n",
    "\n",
    "\n",
    "**duration_seconds:**\n",
    "\n",
    "Column \"start_ts\" is stored as type \"object\". If it contains date and time information, it would be a good idea to convert it to type \"datetime\" for easier manipulation of temporal data.\n",
    "\n",
    "Column \"weather_conditions\" is stored as type \"object\", which is suitable for text data.\n",
    "\n",
    "Column \"duration_seconds\" is stored as type \"float64\", which is appropriate for representing decimal values.\n",
    "\n",
    "\n",
    "\n",
    "**Based on these observations, we may consider the following changes:**\n",
    "\n",
    "\n",
    "\n",
    "In DataFrame **weather_records**:\n",
    "\n",
    "Convert the column \"Date and time\" to type \"datetime\" to facilitate manipulation of dates and times.\n",
    "\n",
    "Convert the \"Temperature\" column to the \"float\" or \"int\" type if numerical operations are performed with the temperature.\n",
    "\n",
    "Rename \"Date and Time\" without spaces and with lower case letters only.\n",
    "\n",
    "\n",
    "\n",
    "In DataFrame **duration_seconds**:\n",
    "\n",
    "Convert column \"start_ts\" to type \"datetime\" if it contains datetime information."
   ]
  },
  {
   "cell_type": "markdown",
   "metadata": {},
   "source": [
    "### Correcting column names and data types"
   ]
  },
  {
   "cell_type": "markdown",
   "metadata": {},
   "source": [
    "Let's make the changes mentioned above to the `weather_records` and `duration_seconds` columns:"
   ]
  },
  {
   "cell_type": "code",
   "execution_count": 28,
   "metadata": {},
   "outputs": [],
   "source": [
    "# Converting the column \"Date and time\" to type datetime\n",
    "weather_records['Date and time'] = pd.to_datetime(weather_records['Date and time'])\n",
    "\n",
    "# Converting the \"Temperature\" column to float type\n",
    "weather_records['Temperature'] = weather_records['Temperature'].astype(float)\n",
    "\n",
    "# Renaming columns by removing spaces and converting to lower case\n",
    "weather_records = weather_records.rename(columns={'Date and time': 'date_and_time', 'Temperature': 'temperature'})"
   ]
  },
  {
   "cell_type": "code",
   "execution_count": 29,
   "metadata": {},
   "outputs": [],
   "source": [
    "# Converting column \"start_ts\" to type datetime\n",
    "duration_seconds['start_ts'] = pd.to_datetime(duration_seconds['start_ts'])"
   ]
  },
  {
   "cell_type": "code",
   "execution_count": 30,
   "metadata": {},
   "outputs": [
    {
     "name": "stdout",
     "output_type": "stream",
     "text": [
      "Columns and data types of the `weather_records` Dataframe\n",
      "date_and_time    datetime64[ns]\n",
      "temperature             float64\n",
      "Description              object\n",
      "dtype: object\n",
      "\n",
      "Columns and data types of the `duration_seconds` Dataframe\n",
      "start_ts              datetime64[ns]\n",
      "weather_conditions            object\n",
      "duration_seconds             float64\n",
      "dtype: object\n"
     ]
    }
   ],
   "source": [
    "#Checking if the fixes worked:\n",
    "\n",
    "print('Columns and data types of the `weather_records` Dataframe')\n",
    "print(weather_records.dtypes)\n",
    "print()\n",
    "\n",
    "print('Columns and data types of the `duration_seconds` Dataframe')\n",
    "print(duration_seconds.dtypes)"
   ]
  },
  {
   "cell_type": "markdown",
   "metadata": {},
   "source": [
    "Now yes. Renamed columns and proper data types."
   ]
  },
  {
   "cell_type": "markdown",
   "metadata": {},
   "source": [
    "### Studying null and duplicate values"
   ]
  },
  {
   "cell_type": "markdown",
   "metadata": {},
   "source": [
    "Let's look for null and duplicate values in both tables in case we need to deal with them:"
   ]
  },
  {
   "cell_type": "code",
   "execution_count": 31,
   "metadata": {
    "scrolled": true
   },
   "outputs": [
    {
     "name": "stdout",
     "output_type": "stream",
     "text": [
      "date_and_time    0\n",
      "temperature      0\n",
      "Description      0\n",
      "dtype: int64\n",
      "\n",
      "company_name    0\n",
      "trips_amount    0\n",
      "dtype: int64\n",
      "\n",
      "dropoff_location_name    0\n",
      "average_trips            0\n",
      "dtype: int64\n",
      "\n",
      "start_ts              0\n",
      "weather_conditions    0\n",
      "duration_seconds      0\n",
      "dtype: int64\n"
     ]
    }
   ],
   "source": [
    "# Checking null values\n",
    "\n",
    "print(weather_records.isnull().sum())\n",
    "\n",
    "print()\n",
    "\n",
    "print(trips_amount.isnull().sum())\n",
    "\n",
    "print()\n",
    "\n",
    "print(average_trips.isnull().sum())\n",
    "\n",
    "print()\n",
    "\n",
    "print(duration_seconds.isnull().sum())\n"
   ]
  },
  {
   "cell_type": "code",
   "execution_count": 32,
   "metadata": {},
   "outputs": [
    {
     "name": "stdout",
     "output_type": "stream",
     "text": [
      "0\n",
      "\n",
      "0\n",
      "\n",
      "0\n",
      "\n",
      "197\n"
     ]
    }
   ],
   "source": [
    "# Checking for duplicate values\n",
    "\n",
    "print(weather_records.duplicated().sum())\n",
    "\n",
    "print()\n",
    "\n",
    "print(trips_amount.duplicated().sum())\n",
    "\n",
    "print()\n",
    "\n",
    "print(average_trips.duplicated().sum())\n",
    "\n",
    "print()\n",
    "\n",
    "print(duration_seconds.duplicated().sum())\n"
   ]
  },
  {
   "cell_type": "markdown",
   "metadata": {},
   "source": [
    "None of the tables have null values.\n",
    "\n",
    "Only `duration_seconds` has duplicate values. Let's take a closer look at it and then focus on analytics and visualizations."
   ]
  },
  {
   "cell_type": "code",
   "execution_count": 33,
   "metadata": {},
   "outputs": [
    {
     "data": {
      "text/html": [
       "<div>\n",
       "<style scoped>\n",
       "    .dataframe tbody tr th:only-of-type {\n",
       "        vertical-align: middle;\n",
       "    }\n",
       "\n",
       "    .dataframe tbody tr th {\n",
       "        vertical-align: top;\n",
       "    }\n",
       "\n",
       "    .dataframe thead th {\n",
       "        text-align: right;\n",
       "    }\n",
       "</style>\n",
       "<table border=\"1\" class=\"dataframe\">\n",
       "  <thead>\n",
       "    <tr style=\"text-align: right;\">\n",
       "      <th></th>\n",
       "      <th>start_ts</th>\n",
       "      <th>weather_conditions</th>\n",
       "      <th>duration_seconds</th>\n",
       "    </tr>\n",
       "  </thead>\n",
       "  <tbody>\n",
       "    <tr>\n",
       "      <th>0</th>\n",
       "      <td>2017-11-25 16:00:00</td>\n",
       "      <td>Good</td>\n",
       "      <td>2410.0</td>\n",
       "    </tr>\n",
       "    <tr>\n",
       "      <th>1</th>\n",
       "      <td>2017-11-25 14:00:00</td>\n",
       "      <td>Good</td>\n",
       "      <td>1920.0</td>\n",
       "    </tr>\n",
       "    <tr>\n",
       "      <th>2</th>\n",
       "      <td>2017-11-25 12:00:00</td>\n",
       "      <td>Good</td>\n",
       "      <td>1543.0</td>\n",
       "    </tr>\n",
       "    <tr>\n",
       "      <th>3</th>\n",
       "      <td>2017-11-04 10:00:00</td>\n",
       "      <td>Good</td>\n",
       "      <td>2512.0</td>\n",
       "    </tr>\n",
       "    <tr>\n",
       "      <th>4</th>\n",
       "      <td>2017-11-11 07:00:00</td>\n",
       "      <td>Good</td>\n",
       "      <td>1440.0</td>\n",
       "    </tr>\n",
       "    <tr>\n",
       "      <th>...</th>\n",
       "      <td>...</td>\n",
       "      <td>...</td>\n",
       "      <td>...</td>\n",
       "    </tr>\n",
       "    <tr>\n",
       "      <th>1063</th>\n",
       "      <td>2017-11-25 11:00:00</td>\n",
       "      <td>Good</td>\n",
       "      <td>0.0</td>\n",
       "    </tr>\n",
       "    <tr>\n",
       "      <th>1064</th>\n",
       "      <td>2017-11-11 10:00:00</td>\n",
       "      <td>Good</td>\n",
       "      <td>1318.0</td>\n",
       "    </tr>\n",
       "    <tr>\n",
       "      <th>1065</th>\n",
       "      <td>2017-11-11 13:00:00</td>\n",
       "      <td>Good</td>\n",
       "      <td>2100.0</td>\n",
       "    </tr>\n",
       "    <tr>\n",
       "      <th>1066</th>\n",
       "      <td>2017-11-11 08:00:00</td>\n",
       "      <td>Good</td>\n",
       "      <td>1380.0</td>\n",
       "    </tr>\n",
       "    <tr>\n",
       "      <th>1067</th>\n",
       "      <td>2017-11-04 16:00:00</td>\n",
       "      <td>Bad</td>\n",
       "      <td>2834.0</td>\n",
       "    </tr>\n",
       "  </tbody>\n",
       "</table>\n",
       "<p>1068 rows × 3 columns</p>\n",
       "</div>"
      ],
      "text/plain": [
       "                start_ts weather_conditions  duration_seconds\n",
       "0    2017-11-25 16:00:00               Good            2410.0\n",
       "1    2017-11-25 14:00:00               Good            1920.0\n",
       "2    2017-11-25 12:00:00               Good            1543.0\n",
       "3    2017-11-04 10:00:00               Good            2512.0\n",
       "4    2017-11-11 07:00:00               Good            1440.0\n",
       "...                  ...                ...               ...\n",
       "1063 2017-11-25 11:00:00               Good               0.0\n",
       "1064 2017-11-11 10:00:00               Good            1318.0\n",
       "1065 2017-11-11 13:00:00               Good            2100.0\n",
       "1066 2017-11-11 08:00:00               Good            1380.0\n",
       "1067 2017-11-04 16:00:00                Bad            2834.0\n",
       "\n",
       "[1068 rows x 3 columns]"
      ]
     },
     "execution_count": 33,
     "metadata": {},
     "output_type": "execute_result"
    }
   ],
   "source": [
    "# Visualization of the first and last data of `duration_seconds´:\n",
    "\n",
    "duration_seconds"
   ]
  },
  {
   "cell_type": "code",
   "execution_count": 34,
   "metadata": {},
   "outputs": [
    {
     "data": {
      "text/html": [
       "<div>\n",
       "<style scoped>\n",
       "    .dataframe tbody tr th:only-of-type {\n",
       "        vertical-align: middle;\n",
       "    }\n",
       "\n",
       "    .dataframe tbody tr th {\n",
       "        vertical-align: top;\n",
       "    }\n",
       "\n",
       "    .dataframe thead th {\n",
       "        text-align: right;\n",
       "    }\n",
       "</style>\n",
       "<table border=\"1\" class=\"dataframe\">\n",
       "  <thead>\n",
       "    <tr style=\"text-align: right;\">\n",
       "      <th></th>\n",
       "      <th>duration_seconds</th>\n",
       "    </tr>\n",
       "  </thead>\n",
       "  <tbody>\n",
       "    <tr>\n",
       "      <th>count</th>\n",
       "      <td>1068.000000</td>\n",
       "    </tr>\n",
       "    <tr>\n",
       "      <th>mean</th>\n",
       "      <td>2071.731273</td>\n",
       "    </tr>\n",
       "    <tr>\n",
       "      <th>std</th>\n",
       "      <td>769.461125</td>\n",
       "    </tr>\n",
       "    <tr>\n",
       "      <th>min</th>\n",
       "      <td>0.000000</td>\n",
       "    </tr>\n",
       "    <tr>\n",
       "      <th>25%</th>\n",
       "      <td>1438.250000</td>\n",
       "    </tr>\n",
       "    <tr>\n",
       "      <th>50%</th>\n",
       "      <td>1980.000000</td>\n",
       "    </tr>\n",
       "    <tr>\n",
       "      <th>75%</th>\n",
       "      <td>2580.000000</td>\n",
       "    </tr>\n",
       "    <tr>\n",
       "      <th>max</th>\n",
       "      <td>7440.000000</td>\n",
       "    </tr>\n",
       "  </tbody>\n",
       "</table>\n",
       "</div>"
      ],
      "text/plain": [
       "       duration_seconds\n",
       "count       1068.000000\n",
       "mean        2071.731273\n",
       "std          769.461125\n",
       "min            0.000000\n",
       "25%         1438.250000\n",
       "50%         1980.000000\n",
       "75%         2580.000000\n",
       "max         7440.000000"
      ]
     },
     "execution_count": 34,
     "metadata": {},
     "output_type": "execute_result"
    }
   ],
   "source": [
    "duration_seconds.describe()"
   ]
  },
  {
   "cell_type": "markdown",
   "metadata": {},
   "source": [
    "Although we used `DATE_TRUNC` in our SQL query to bring this data and we know that some initial hours of some races (`start_ts`) of `duration_seconds` would stay the same, with several factors influencing our car trips, it is considerably unlikely that these races are exactly the same duration in the precision of the seconds. So we will choose to **remove these 197 duplicates.**"
   ]
  },
  {
   "cell_type": "code",
   "execution_count": 35,
   "metadata": {},
   "outputs": [],
   "source": [
    "# Removing duplicate lines completely by keeping the first occurrence of each duplicate value in 'duration_seconds'\n",
    "duration_seconds.drop_duplicates(keep='first', inplace=True)\n",
    "\n",
    "# Resetting the index\n",
    "duration_seconds.reset_index(drop=True, inplace=True)"
   ]
  },
  {
   "cell_type": "markdown",
   "metadata": {},
   "source": [
    "Let's check out the duplicates and some basic Dataframe stats:"
   ]
  },
  {
   "cell_type": "code",
   "execution_count": 36,
   "metadata": {},
   "outputs": [
    {
     "data": {
      "text/plain": [
       "0"
      ]
     },
     "execution_count": 36,
     "metadata": {},
     "output_type": "execute_result"
    }
   ],
   "source": [
    "duration_seconds.duplicated().sum()"
   ]
  },
  {
   "cell_type": "code",
   "execution_count": 37,
   "metadata": {},
   "outputs": [
    {
     "data": {
      "text/html": [
       "<div>\n",
       "<style scoped>\n",
       "    .dataframe tbody tr th:only-of-type {\n",
       "        vertical-align: middle;\n",
       "    }\n",
       "\n",
       "    .dataframe tbody tr th {\n",
       "        vertical-align: top;\n",
       "    }\n",
       "\n",
       "    .dataframe thead th {\n",
       "        text-align: right;\n",
       "    }\n",
       "</style>\n",
       "<table border=\"1\" class=\"dataframe\">\n",
       "  <thead>\n",
       "    <tr style=\"text-align: right;\">\n",
       "      <th></th>\n",
       "      <th>duration_seconds</th>\n",
       "    </tr>\n",
       "  </thead>\n",
       "  <tbody>\n",
       "    <tr>\n",
       "      <th>count</th>\n",
       "      <td>871.000000</td>\n",
       "    </tr>\n",
       "    <tr>\n",
       "      <th>mean</th>\n",
       "      <td>2096.308840</td>\n",
       "    </tr>\n",
       "    <tr>\n",
       "      <th>std</th>\n",
       "      <td>782.274717</td>\n",
       "    </tr>\n",
       "    <tr>\n",
       "      <th>min</th>\n",
       "      <td>0.000000</td>\n",
       "    </tr>\n",
       "    <tr>\n",
       "      <th>25%</th>\n",
       "      <td>1440.000000</td>\n",
       "    </tr>\n",
       "    <tr>\n",
       "      <th>50%</th>\n",
       "      <td>2015.000000</td>\n",
       "    </tr>\n",
       "    <tr>\n",
       "      <th>75%</th>\n",
       "      <td>2584.000000</td>\n",
       "    </tr>\n",
       "    <tr>\n",
       "      <th>max</th>\n",
       "      <td>7440.000000</td>\n",
       "    </tr>\n",
       "  </tbody>\n",
       "</table>\n",
       "</div>"
      ],
      "text/plain": [
       "       duration_seconds\n",
       "count        871.000000\n",
       "mean        2096.308840\n",
       "std          782.274717\n",
       "min            0.000000\n",
       "25%         1440.000000\n",
       "50%         2015.000000\n",
       "75%         2584.000000\n",
       "max         7440.000000"
      ]
     },
     "execution_count": 37,
     "metadata": {},
     "output_type": "execute_result"
    }
   ],
   "source": [
    "duration_seconds.describe()"
   ]
  },
  {
   "cell_type": "markdown",
   "metadata": {},
   "source": [
    "Unfortunately, we lost a little more than 10% of the data, but fortunately we are sure that we will not analyze any duplicate data, that is, that the drivers did not magically make trips exactly the same at the same time."
   ]
  },
  {
   "cell_type": "markdown",
   "metadata": {},
   "source": [
    "### The main neighborhoods"
   ]
  },
  {
   "cell_type": "markdown",
   "metadata": {},
   "source": [
    "Let's go back and display the top 10 neighborhoods in terms of destinations, based on the average number of trips that ended up in each of them."
   ]
  },
  {
   "cell_type": "code",
   "execution_count": 38,
   "metadata": {},
   "outputs": [
    {
     "data": {
      "text/html": [
       "<div>\n",
       "<style scoped>\n",
       "    .dataframe tbody tr th:only-of-type {\n",
       "        vertical-align: middle;\n",
       "    }\n",
       "\n",
       "    .dataframe tbody tr th {\n",
       "        vertical-align: top;\n",
       "    }\n",
       "\n",
       "    .dataframe thead th {\n",
       "        text-align: right;\n",
       "    }\n",
       "</style>\n",
       "<table border=\"1\" class=\"dataframe\">\n",
       "  <thead>\n",
       "    <tr style=\"text-align: right;\">\n",
       "      <th></th>\n",
       "      <th>dropoff_location_name</th>\n",
       "      <th>average_trips</th>\n",
       "    </tr>\n",
       "  </thead>\n",
       "  <tbody>\n",
       "    <tr>\n",
       "      <th>0</th>\n",
       "      <td>Loop</td>\n",
       "      <td>10727.466667</td>\n",
       "    </tr>\n",
       "    <tr>\n",
       "      <th>1</th>\n",
       "      <td>River North</td>\n",
       "      <td>9523.666667</td>\n",
       "    </tr>\n",
       "    <tr>\n",
       "      <th>2</th>\n",
       "      <td>Streeterville</td>\n",
       "      <td>6664.666667</td>\n",
       "    </tr>\n",
       "    <tr>\n",
       "      <th>3</th>\n",
       "      <td>West Loop</td>\n",
       "      <td>5163.666667</td>\n",
       "    </tr>\n",
       "    <tr>\n",
       "      <th>4</th>\n",
       "      <td>O'Hare</td>\n",
       "      <td>2546.900000</td>\n",
       "    </tr>\n",
       "    <tr>\n",
       "      <th>5</th>\n",
       "      <td>Lake View</td>\n",
       "      <td>2420.966667</td>\n",
       "    </tr>\n",
       "    <tr>\n",
       "      <th>6</th>\n",
       "      <td>Grant Park</td>\n",
       "      <td>2068.533333</td>\n",
       "    </tr>\n",
       "    <tr>\n",
       "      <th>7</th>\n",
       "      <td>Museum Campus</td>\n",
       "      <td>1510.000000</td>\n",
       "    </tr>\n",
       "    <tr>\n",
       "      <th>8</th>\n",
       "      <td>Gold Coast</td>\n",
       "      <td>1364.233333</td>\n",
       "    </tr>\n",
       "    <tr>\n",
       "      <th>9</th>\n",
       "      <td>Sheffield &amp; DePaul</td>\n",
       "      <td>1259.766667</td>\n",
       "    </tr>\n",
       "  </tbody>\n",
       "</table>\n",
       "</div>"
      ],
      "text/plain": [
       "  dropoff_location_name  average_trips\n",
       "0                  Loop   10727.466667\n",
       "1           River North    9523.666667\n",
       "2         Streeterville    6664.666667\n",
       "3             West Loop    5163.666667\n",
       "4                O'Hare    2546.900000\n",
       "5             Lake View    2420.966667\n",
       "6            Grant Park    2068.533333\n",
       "7         Museum Campus    1510.000000\n",
       "8            Gold Coast    1364.233333\n",
       "9    Sheffield & DePaul    1259.766667"
      ]
     },
     "execution_count": 38,
     "metadata": {},
     "output_type": "execute_result"
    }
   ],
   "source": [
    "# Identifying the top 10 neighborhoods in terms of destinations\n",
    "top_10_neighborhoods = average_trips.nlargest(10, 'average_trips')\n",
    "\n",
    "# Displaying the results for visualization\n",
    "top_10_neighborhoods[['dropoff_location_name', 'average_trips']]"
   ]
  },
  {
   "cell_type": "markdown",
   "metadata": {},
   "source": [
    "These are the top 10 neighborhoods in terms of destinations, ranked based on the average number of trips that ended in each one."
   ]
  },
  {
   "cell_type": "markdown",
   "metadata": {},
   "source": [
    "### Creating and analyzing graphs"
   ]
  },
  {
   "cell_type": "markdown",
   "metadata": {},
   "source": [
    "Let's proceed by creating charts to visualize information about taxi companies and the number of rides, as well as the top 10 neighborhoods in terms of number of rides with these neighborhoods as the destination.\n",
    "\n",
    "To create the graphs, we will use the Python library **matplotlib**."
   ]
  },
  {
   "cell_type": "markdown",
   "metadata": {},
   "source": [
    "**Graph of Taxi Companies and Number of Rides:**"
   ]
  },
  {
   "cell_type": "code",
   "execution_count": 39,
   "metadata": {
    "scrolled": false
   },
   "outputs": [
    {
     "data": {
      "image/png": "[encoded data removed]",
      "text/plain": [
       "<Figure size 864x432 with 1 Axes>"
      ]
     },
     "metadata": {
      "needs_background": "light"
     },
     "output_type": "display_data"
    }
   ],
   "source": [
    "# Sort the DataFrame 'trips_amount' by the number of trips in descending order\n",
    "sorted_trips = trips_amount.sort_values('trips_amount', ascending=False)\n",
    "\n",
    "# Select the top 10 companies\n",
    "top_10_companies = sorted_trips.head(10)\n",
    "\n",
    "# Create horizontal bar chart with top 10 companies\n",
    "plt.figure(figsize=(12, 6))\n",
    "plt.barh(top_10_companies['company_name'], top_10_companies['trips_amount'])\n",
    "plt.xlabel('Number of Races')\n",
    "plt.ylabel('Taxi Company')\n",
    "plt.title('Top 10 Taxi Companies and Number of Rides')\n",
    "plt.show()"
   ]
  },
  {
   "cell_type": "markdown",
   "metadata": {},
   "source": [
    "Based on the data provided on the number of trips by each taxi company, we can carry out analyzes and conclude on the results. Let's analyze the two charts separately:"
   ]
  },
  {
   "cell_type": "markdown",
   "metadata": {},
   "source": [
    "**Graph of Taxi Companies and Number of Rides:**\n",
    "By looking at the bar graph of taxi companies and the number of rides, we can identify the top companies based on the amount of trips taken. Some of the companies that stand out are \"Flash Cab\", \"Taxi Affiliation Services\" and \"Medallion Leasing\" which have a significantly higher number of rides compared to other companies.\n",
    "\n",
    "These data suggest that these companies may have a larger market share or be more popular with passengers during the analyzed period. It is important to note that the company \"Flash Cab\" leads with a significant number of trips, which may indicate its strong presence and popularity among users."
   ]
  },
  {
   "cell_type": "markdown",
   "metadata": {},
   "source": [
    "**Chart of the Top 10 Neighborhoods by Number of Races:**"
   ]
  },
  {
   "cell_type": "code",
   "execution_count": 40,
   "metadata": {},
   "outputs": [
    {
     "data": {
      "image/png": "[encoded data removed]",
      "text/plain": [
       "<Figure size 864x432 with 1 Axes>"
      ]
     },
     "metadata": {
      "needs_background": "light"
     },
     "output_type": "display_data"
    }
   ],
   "source": [
    "# Creating the bar chart for the top 10 neighborhoods and number of rides\n",
    "plt.figure(figsize=(12, 6))\n",
    "plt.bar(top_10_neighborhoods['dropoff_location_name'], top_10_neighborhoods['average_trips'])\n",
    "plt.xlabel('Neighborhood')\n",
    "plt.ylabel('Number of Races')\n",
    "plt.title('Top 10 Neighborhoods by Number of Races')\n",
    "plt.xticks(rotation=90)\n",
    "plt.show()"
   ]
  },
  {
   "cell_type": "markdown",
   "metadata": {},
   "source": [
    "**Chart of the Top 10 Neighborhoods by Number of Races:**\n",
    "Analyzing the bar graph of the top 10 neighborhoods in terms of the number of rides as a destination, we can see that the \"Loop\" neighborhood is the leader with a significantly higher amount of rides. Next, we have \"River North\" and \"Streeterville\" as the second and third top destination neighborhoods, respectively.\n",
    "\n",
    "These results indicate that these neighborhoods are popular destinations for cab rides in Chicago during the analyzed period. It is possible that these neighborhoods have a high passenger demand or are important commercial and tourist areas in the city."
   ]
  },
  {
   "cell_type": "markdown",
   "metadata": {},
   "source": [
    "**Intermediate conclusion:**\n",
    "Based on the graphs and data analyzed, we can conclude that there are taxi companies that stand out in terms of number of trips, such as \"Flash Cab\", and popular neighborhoods as destinations, such as \"Loop\". This information can be useful for the Zuber company when making strategic decisions, such as allocating resources or planning partnerships with the most popular taxi companies, aiming to better meet the demand in popular neighborhoods."
   ]
  },
  {
   "cell_type": "markdown",
   "metadata": {},
   "source": [
    "## Testing hypotheses (Python)"
   ]
  },
  {
   "cell_type": "markdown",
   "metadata": {},
   "source": [
    "### Weather condition dataframe"
   ]
  },
  {
   "cell_type": "markdown",
   "metadata": {},
   "source": [
    "Our last SQL query before this project in the Jupyter Notebook allowed us to access the Dataframe `duration_seconds`, it contains data about trips from the Loop to O'Hare International Airport, showing the date and time of the start of the race, weather conditions at the time the race started and the duration of the trip in seconds."
   ]
  },
  {
   "cell_type": "markdown",
   "metadata": {},
   "source": [
    "### Hypothesis"
   ]
  },
  {
   "cell_type": "markdown",
   "metadata": {},
   "source": [
    "When observing the collected data and its variables, we considered the following hypothesis for analysis:\n",
    "\n",
    "\n",
    "**\"The average length of rides from the Loop to O'Hare International Airport changes on rainy Saturdays.\"**"
   ]
  },
  {
   "cell_type": "markdown",
   "metadata": {},
   "source": [
    "### t-test"
   ]
  },
  {
   "cell_type": "code",
   "execution_count": 41,
   "metadata": {},
   "outputs": [
    {
     "name": "stdout",
     "output_type": "stream",
     "text": [
      "Value of p-value: 9.126383933880083e-08\n",
      "The average length of rides from the Loop to O'Hare International Airport is significantly different on rainy Saturdays.\n"
     ]
    }
   ],
   "source": [
    "# Filtering data only for rainy Saturdays\n",
    "saturday_rainy = duration_seconds[duration_seconds['weather_conditions'] == 'Bad']\n",
    "\n",
    "# Filtering the data only for Saturdays with good weather conditions\n",
    "saturday_good = duration_seconds[duration_seconds['weather_conditions'] == 'Good']\n",
    "\n",
    "# Performing the hypothesis test\n",
    "result = stats.ttest_ind(saturday_rainy['duration_seconds'], saturday_good['duration_seconds'], equal_var=False)\n",
    "\n",
    "# Printing the p-value\n",
    "print(\"Value of p-value:\", result.pvalue)\n",
    "\n",
    "# Testing the hypothesis\n",
    "alpha = 0.01\n",
    "if result.pvalue < alpha:\n",
    "     print(\"The average length of rides from the Loop to O'Hare International Airport is significantly different on rainy Saturdays.\")\n",
    "else:\n",
    "     print(\"There is insufficient evidence to conclude that the average duration of rides from the Loop to O'Hare International Airport is significantly different on rainy Saturdays.\")"
   ]
  },
  {
   "cell_type": "markdown",
   "metadata": {},
   "source": [
    "### Intermediate conclusions (for t-test)"
   ]
  },
  {
   "cell_type": "markdown",
   "metadata": {},
   "source": [
    "To test the hypothesis that the average duration of rides from the Loop to O'Hare International Airport changes on rainy Saturdays, we were able to formulate the following null and alternative hypotheses:\n",
    "\n",
    "**Null hypothesis (H0)**: The average duration of rides from the Loop to O'Hare International Airport is the same on rainy Saturdays and on fair weather Saturdays.\n",
    "\n",
    "**Alternative Hypothesis (H1)**: The average duration of rides from the Loop to O'Hare International Airport is significantly different on rainy Saturdays compared to Saturdays with good weather conditions.\n",
    "\n",
    "To test this hypothesis, we used a statistical hypothesis test, specifically the *independent Student's t-test*.\n",
    "\n",
    "This test compares the means of two independent samples (in this case, the duration of trips on rainy Saturdays and on good weather Saturdays) to determine whether there is a significant difference between them.\n",
    "\n",
    "The **criterion used** to test the hypothesis is the **p-value**. The p-value is the probability of obtaining an equal or more extreme difference between the means of the two samples, assuming the null hypothesis is true. If the p-value is less than a predetermined significance level (usually 0.05), we reject the null hypothesis in favor of the alternative hypothesis.\n",
    "\n",
    "In the provided code, we perform the independent Student's t-test using the ttest_ind function of the **scipy.stats module**. We then compare the p-value with a significance level (alpha) of 0.01 and, based on this comparison, issue a conclusion indicating whether or not there is a significant difference in the mean duration of walks on rainy Saturdays.\n",
    "\n",
    "Even when adjusting the significance level to a more rigorous value, 0.01, the result was maintained, indicating that the difference observed in the average duration of trips is **statistically significant**.\n",
    "\n",
    "Therefore, we can confidently state that weather conditions, specifically rainy Saturdays, have an impact on the average length of trips from the Loop to O'Hare International Airport. This can be useful for planning and forecasting travel time in adverse weather conditions, in order to provide a better experience for passengers."
   ]
  },
  {
   "cell_type": "markdown",
   "metadata": {},
   "source": [
    "## Conclusion"
   ]
  },
  {
   "cell_type": "markdown",
   "metadata": {},
   "source": [
    "We arrived at some conclusions of the main topics of the project, highlighting the actions taken, the results obtained and possible suggestions for the Zuber company:\n",
    "\n",
    "**Exploratory data analysis:**\n",
    "\n",
    "We've identified the top destination neighborhoods and the most popular taxi companies based on the number of trips.\n",
    "This can help Zuber understand passenger preferences and identify areas of greatest demand.\n",
    "\n",
    "**Impact of weather conditions:**\n",
    "\n",
    "We observed that weather conditions, especially rainy Saturdays, have a significant impact on average trip duration.\n",
    "This can be used to improve travel time planning and forecasting in adverse weather conditions to provide a better passenger experience.\n",
    "\n",
    "**Suggestions to optimize the Zuber service:**\n",
    "\n",
    "Based on analysis of the most popular taxi companies, Zuber may consider strategic partnerships with these companies to better serve demand in popular areas.\n",
    "The analysis of the main destination neighborhoods can direct the allocation of resources and the offer of additional services in places of greater demand.\n",
    "The company can exploit other variables, such as distance traveled and peak hours, to improve operational efficiency and provide a more efficient service.\n",
    "\n",
    "**Continuous monitoring:**\n",
    "\n",
    "It is important to conduct regular reviews to monitor trends and changes in passenger preferences and market conditions.\n",
    "Continuous data collection and regular analysis can provide up-to-date insights and support strategic decision-making.\n",
    "\n",
    "**Future considerations:**\n",
    "\n",
    "It is recommended that Zuber continue to collect additional data, such as passenger feedback and information about local events, to enrich the analysis and gain a more complete understanding of demand patterns.\n",
    "The company can exploit advanced data analysis techniques, such as machine learning, to forecast future demand and optimize resource allocation.\n",
    "\n",
    "\n",
    "**In summary**, analyzing the data provided Zuber with valuable insights into passenger preferences, the impact of weather conditions and demand trends in different areas of Chicago. Based on these results, Zuber can make strategic decisions to improve its service, better meet passenger needs and stand out in the ride-sharing market. It is recommended that the airline continue to regularly monitor and analyze data to adapt to changes in passenger preferences and the ever-evolving market environment."
   ]
  }
 ],
 "metadata": {
  "kernelspec": {
   "display_name": "Python 3 (ipykernel)",
   "language": "python",
   "name": "python3"
  },
  "language_info": {
   "codemirror_mode": {
    "name": "ipython",
    "version": 3
   },
   "file_extension": ".py",
   "mimetype": "text/x-python",
   "name": "python",
   "nbconvert_exporter": "python",
   "pygments_lexer": "ipython3",
   "version": "3.9.5"
  },
  "toc": {
   "base_numbering": 1,
   "nav_menu": {},
   "number_sections": true,
   "sideBar": true,
   "skip_h1_title": true,
   "title_cell": "Table of Contents",
   "title_sidebar": "Contents",
   "toc_cell": false,
   "toc_position": {},
   "toc_section_display": true,
   "toc_window_display": false
  }
 },
 "nbformat": 4,
 "nbformat_minor": 2
}
